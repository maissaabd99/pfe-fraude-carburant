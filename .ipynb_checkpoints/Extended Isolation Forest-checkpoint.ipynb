{
 "cells": [
  {
   "cell_type": "markdown",
   "id": "3c720d99",
   "metadata": {},
   "source": [
    "### Test de IF amélioré  - EIF - Extended Isolation Forest"
   ]
  },
  {
   "cell_type": "code",
   "execution_count": 1,
   "id": "b3636f90",
   "metadata": {},
   "outputs": [
    {
     "name": "stdout",
     "output_type": "stream",
     "text": [
      "Requirement already satisfied: eif in /opt/anaconda3/lib/python3.9/site-packages (2.0.2)\n",
      "Requirement already satisfied: numpy in /opt/anaconda3/lib/python3.9/site-packages (from eif) (1.24.3)\n",
      "Requirement already satisfied: cython in /opt/anaconda3/lib/python3.9/site-packages (from eif) (0.29.32)\n",
      "\n",
      "\u001b[1m[\u001b[0m\u001b[34;49mnotice\u001b[0m\u001b[1;39;49m]\u001b[0m\u001b[39;49m A new release of pip is available: \u001b[0m\u001b[31;49m23.3.1\u001b[0m\u001b[39;49m -> \u001b[0m\u001b[32;49m24.0\u001b[0m\n",
      "\u001b[1m[\u001b[0m\u001b[34;49mnotice\u001b[0m\u001b[1;39;49m]\u001b[0m\u001b[39;49m To update, run: \u001b[0m\u001b[32;49mpip install --upgrade pip\u001b[0m\n",
      "Note: you may need to restart the kernel to use updated packages.\n"
     ]
    }
   ],
   "source": [
    "pip install eif\n"
   ]
  },
  {
   "cell_type": "code",
   "execution_count": 2,
   "id": "1acb15c6",
   "metadata": {},
   "outputs": [
    {
     "data": {
      "text/html": [
       "<div>\n",
       "<style scoped>\n",
       "    .dataframe tbody tr th:only-of-type {\n",
       "        vertical-align: middle;\n",
       "    }\n",
       "\n",
       "    .dataframe tbody tr th {\n",
       "        vertical-align: top;\n",
       "    }\n",
       "\n",
       "    .dataframe thead th {\n",
       "        text-align: right;\n",
       "    }\n",
       "</style>\n",
       "<table border=\"1\" class=\"dataframe\">\n",
       "  <thead>\n",
       "    <tr style=\"text-align: right;\">\n",
       "      <th></th>\n",
       "      <th>matricule</th>\n",
       "      <th>date</th>\n",
       "      <th>quantite</th>\n",
       "      <th>fournisseur</th>\n",
       "      <th>typePaiement</th>\n",
       "      <th>note</th>\n",
       "      <th>station</th>\n",
       "      <th>diff_date</th>\n",
       "    </tr>\n",
       "  </thead>\n",
       "  <tbody>\n",
       "    <tr>\n",
       "      <th>0</th>\n",
       "      <td>113</td>\n",
       "      <td>2023-06-03 12:18:00</td>\n",
       "      <td>25.19</td>\n",
       "      <td>0</td>\n",
       "      <td>1407045035</td>\n",
       "      <td>2</td>\n",
       "      <td>94</td>\n",
       "      <td>7.0</td>\n",
       "    </tr>\n",
       "    <tr>\n",
       "      <th>1</th>\n",
       "      <td>113</td>\n",
       "      <td>2023-06-10 13:09:00</td>\n",
       "      <td>25.19</td>\n",
       "      <td>0</td>\n",
       "      <td>1407045035</td>\n",
       "      <td>2</td>\n",
       "      <td>94</td>\n",
       "      <td>7.0</td>\n",
       "    </tr>\n",
       "    <tr>\n",
       "      <th>2</th>\n",
       "      <td>113</td>\n",
       "      <td>2023-06-21 09:05:00</td>\n",
       "      <td>31.23</td>\n",
       "      <td>0</td>\n",
       "      <td>1407045035</td>\n",
       "      <td>2</td>\n",
       "      <td>94</td>\n",
       "      <td>10.0</td>\n",
       "    </tr>\n",
       "    <tr>\n",
       "      <th>3</th>\n",
       "      <td>113</td>\n",
       "      <td>2023-07-01 21:48:00</td>\n",
       "      <td>25.19</td>\n",
       "      <td>0</td>\n",
       "      <td>1407045035</td>\n",
       "      <td>2</td>\n",
       "      <td>98</td>\n",
       "      <td>10.0</td>\n",
       "    </tr>\n",
       "    <tr>\n",
       "      <th>4</th>\n",
       "      <td>113</td>\n",
       "      <td>2023-07-09 07:37:00</td>\n",
       "      <td>25.19</td>\n",
       "      <td>0</td>\n",
       "      <td>1407045035</td>\n",
       "      <td>2</td>\n",
       "      <td>99</td>\n",
       "      <td>7.0</td>\n",
       "    </tr>\n",
       "  </tbody>\n",
       "</table>\n",
       "</div>"
      ],
      "text/plain": [
       "   matricule                 date  quantite  fournisseur  typePaiement  note  \\\n",
       "0        113  2023-06-03 12:18:00     25.19            0    1407045035     2   \n",
       "1        113  2023-06-10 13:09:00     25.19            0    1407045035     2   \n",
       "2        113  2023-06-21 09:05:00     31.23            0    1407045035     2   \n",
       "3        113  2023-07-01 21:48:00     25.19            0    1407045035     2   \n",
       "4        113  2023-07-09 07:37:00     25.19            0    1407045035     2   \n",
       "\n",
       "   station  diff_date  \n",
       "0       94        7.0  \n",
       "1       94        7.0  \n",
       "2       94       10.0  \n",
       "3       98       10.0  \n",
       "4       99        7.0  "
      ]
     },
     "execution_count": 2,
     "metadata": {},
     "output_type": "execute_result"
    }
   ],
   "source": [
    "import pandas as pd\n",
    "gp2_carburant = pd.read_csv(\"/Users/abdelwahed/Mise-en-place-d'un-détécteur-de-fraude-de-carburant/gp2_carburant_transformed_diff_date.csv\",delimiter=',',encoding='utf-8')\n",
    "gp2_carburant.head()"
   ]
  },
  {
   "cell_type": "code",
   "execution_count": 3,
   "id": "0748d483",
   "metadata": {},
   "outputs": [],
   "source": [
    "gp2_carburant = gp2_carburant[gp2_carburant['matricule'] == 230]\n",
    "gp2_carburant1 = gp2_carburant\n",
    "#print(gp2_carburant)"
   ]
  },
  {
   "cell_type": "code",
   "execution_count": 4,
   "id": "b4245303",
   "metadata": {},
   "outputs": [],
   "source": [
    "import  eif as iso # Importer la classe iForest depuis le package eif\n",
    "from sklearn.preprocessing import StandardScaler\n",
    "#gp2_carburant = gp2_carburant[gp2_carburant['matricule'] == 932]\n",
    "\n",
    "gp2_carburant = gp2_carburant[['matricule','quantite','fournisseur','diff_date','typePaiement','note']]\n",
    "scaler = StandardScaler()\n",
    "np_scaled = scaler.fit_transform(gp2_carburant)\n",
    "# Créer une instance de iForest avec les paramètres désirés\n",
    "iforest = iso.iForest(gp2_carburant.to_numpy(), ntrees=100, sample_size=10, ExtensionLevel=2)\n",
    "\n",
    "# Entraîner le modèle sur vos données\n",
    "#iforest.fit(gp2_carburant)\n",
    "\n",
    "# Obtenez les scores d'anomalie pour vos données\n",
    "anomaly_scores = iforest.compute_paths(X_in = gp2_carburant.to_numpy())"
   ]
  },
  {
   "cell_type": "code",
   "execution_count": 5,
   "id": "02339c72",
   "metadata": {},
   "outputs": [
    {
     "name": "stdout",
     "output_type": "stream",
     "text": [
      "           0\n",
      "0   0.381061\n",
      "1   0.431685\n",
      "2   0.379251\n",
      "3   0.378357\n",
      "4   0.427789\n",
      "..       ...\n",
      "60  0.573190\n",
      "61  0.516726\n",
      "62  0.518274\n",
      "63  0.537253\n",
      "64  0.516726\n",
      "\n",
      "[65 rows x 1 columns]\n"
     ]
    }
   ],
   "source": [
    "print(pd.DataFrame(anomaly_scores))"
   ]
  },
  {
   "cell_type": "code",
   "execution_count": 6,
   "id": "ec778c00",
   "metadata": {},
   "outputs": [
    {
     "name": "stdout",
     "output_type": "stream",
     "text": [
      "[51 23 16 36 31 11 41 19 13  3  2 33 30 15  0  8 35 14 17 46 43 47 50  5\n",
      " 38 20 28  9 12 34  7 18 42 44 24 37  4  1 39 40 27 22 32 48 26 45 29  6\n",
      " 10 21 49 25 55 53 54 61 64 62 57 56 59 63 58 60 52]\n"
     ]
    }
   ],
   "source": [
    "import numpy as np\n",
    "\n",
    "ss1=np.argsort(anomaly_scores)\n",
    "print(ss1)"
   ]
  },
  {
   "cell_type": "code",
   "execution_count": 7,
   "id": "9e4c92e8",
   "metadata": {},
   "outputs": [
    {
     "name": "stderr",
     "output_type": "stream",
     "text": [
      "/var/folders/sn/59b9cwm95v14m9wvpx_jfkxc0000gn/T/ipykernel_18737/103037883.py:1: SettingWithCopyWarning: \n",
      "A value is trying to be set on a copy of a slice from a DataFrame.\n",
      "Try using .loc[row_indexer,col_indexer] = value instead\n",
      "\n",
      "See the caveats in the documentation: https://pandas.pydata.org/pandas-docs/stable/user_guide/indexing.html#returning-a-view-versus-a-copy\n",
      "  gp2_carburant['eif'] = anomaly_scores\n"
     ]
    }
   ],
   "source": [
    "gp2_carburant['eif'] = anomaly_scores"
   ]
  },
  {
   "cell_type": "code",
   "execution_count": 8,
   "id": "35563197",
   "metadata": {},
   "outputs": [
    {
     "data": {
      "text/html": [
       "<div>\n",
       "<style scoped>\n",
       "    .dataframe tbody tr th:only-of-type {\n",
       "        vertical-align: middle;\n",
       "    }\n",
       "\n",
       "    .dataframe tbody tr th {\n",
       "        vertical-align: top;\n",
       "    }\n",
       "\n",
       "    .dataframe thead th {\n",
       "        text-align: right;\n",
       "    }\n",
       "</style>\n",
       "<table border=\"1\" class=\"dataframe\">\n",
       "  <thead>\n",
       "    <tr style=\"text-align: right;\">\n",
       "      <th></th>\n",
       "      <th>matricule</th>\n",
       "      <th>quantite</th>\n",
       "      <th>fournisseur</th>\n",
       "      <th>diff_date</th>\n",
       "      <th>typePaiement</th>\n",
       "      <th>note</th>\n",
       "      <th>eif</th>\n",
       "    </tr>\n",
       "  </thead>\n",
       "  <tbody>\n",
       "    <tr>\n",
       "      <th>174</th>\n",
       "      <td>230</td>\n",
       "      <td>78.09</td>\n",
       "      <td>0</td>\n",
       "      <td>3.0</td>\n",
       "      <td>1407018303</td>\n",
       "      <td>3</td>\n",
       "      <td>0.381061</td>\n",
       "    </tr>\n",
       "    <tr>\n",
       "      <th>175</th>\n",
       "      <td>230</td>\n",
       "      <td>86.65</td>\n",
       "      <td>0</td>\n",
       "      <td>1.0</td>\n",
       "      <td>1407018303</td>\n",
       "      <td>3</td>\n",
       "      <td>0.431685</td>\n",
       "    </tr>\n",
       "    <tr>\n",
       "      <th>176</th>\n",
       "      <td>230</td>\n",
       "      <td>69.02</td>\n",
       "      <td>0</td>\n",
       "      <td>3.0</td>\n",
       "      <td>1407018303</td>\n",
       "      <td>3</td>\n",
       "      <td>0.379251</td>\n",
       "    </tr>\n",
       "    <tr>\n",
       "      <th>177</th>\n",
       "      <td>230</td>\n",
       "      <td>77.08</td>\n",
       "      <td>0</td>\n",
       "      <td>3.0</td>\n",
       "      <td>1407018303</td>\n",
       "      <td>3</td>\n",
       "      <td>0.378357</td>\n",
       "    </tr>\n",
       "    <tr>\n",
       "      <th>178</th>\n",
       "      <td>230</td>\n",
       "      <td>83.12</td>\n",
       "      <td>0</td>\n",
       "      <td>4.0</td>\n",
       "      <td>1407018303</td>\n",
       "      <td>3</td>\n",
       "      <td>0.427789</td>\n",
       "    </tr>\n",
       "    <tr>\n",
       "      <th>...</th>\n",
       "      <td>...</td>\n",
       "      <td>...</td>\n",
       "      <td>...</td>\n",
       "      <td>...</td>\n",
       "      <td>...</td>\n",
       "      <td>...</td>\n",
       "      <td>...</td>\n",
       "    </tr>\n",
       "    <tr>\n",
       "      <th>234</th>\n",
       "      <td>230</td>\n",
       "      <td>176.32</td>\n",
       "      <td>0</td>\n",
       "      <td>8.0</td>\n",
       "      <td>1407018303</td>\n",
       "      <td>3</td>\n",
       "      <td>0.573190</td>\n",
       "    </tr>\n",
       "    <tr>\n",
       "      <th>235</th>\n",
       "      <td>230</td>\n",
       "      <td>176.32</td>\n",
       "      <td>0</td>\n",
       "      <td>3.0</td>\n",
       "      <td>1407018303</td>\n",
       "      <td>3</td>\n",
       "      <td>0.516726</td>\n",
       "    </tr>\n",
       "    <tr>\n",
       "      <th>236</th>\n",
       "      <td>230</td>\n",
       "      <td>168.77</td>\n",
       "      <td>0</td>\n",
       "      <td>3.0</td>\n",
       "      <td>1407018303</td>\n",
       "      <td>3</td>\n",
       "      <td>0.518274</td>\n",
       "    </tr>\n",
       "    <tr>\n",
       "      <th>237</th>\n",
       "      <td>230</td>\n",
       "      <td>176.32</td>\n",
       "      <td>0</td>\n",
       "      <td>5.0</td>\n",
       "      <td>1407018303</td>\n",
       "      <td>3</td>\n",
       "      <td>0.537253</td>\n",
       "    </tr>\n",
       "    <tr>\n",
       "      <th>238</th>\n",
       "      <td>230</td>\n",
       "      <td>176.32</td>\n",
       "      <td>0</td>\n",
       "      <td>3.0</td>\n",
       "      <td>1407018303</td>\n",
       "      <td>3</td>\n",
       "      <td>0.516726</td>\n",
       "    </tr>\n",
       "  </tbody>\n",
       "</table>\n",
       "<p>65 rows × 7 columns</p>\n",
       "</div>"
      ],
      "text/plain": [
       "     matricule  quantite  fournisseur  diff_date  typePaiement  note       eif\n",
       "174        230     78.09            0        3.0    1407018303     3  0.381061\n",
       "175        230     86.65            0        1.0    1407018303     3  0.431685\n",
       "176        230     69.02            0        3.0    1407018303     3  0.379251\n",
       "177        230     77.08            0        3.0    1407018303     3  0.378357\n",
       "178        230     83.12            0        4.0    1407018303     3  0.427789\n",
       "..         ...       ...          ...        ...           ...   ...       ...\n",
       "234        230    176.32            0        8.0    1407018303     3  0.573190\n",
       "235        230    176.32            0        3.0    1407018303     3  0.516726\n",
       "236        230    168.77            0        3.0    1407018303     3  0.518274\n",
       "237        230    176.32            0        5.0    1407018303     3  0.537253\n",
       "238        230    176.32            0        3.0    1407018303     3  0.516726\n",
       "\n",
       "[65 rows x 7 columns]"
      ]
     },
     "execution_count": 8,
     "metadata": {},
     "output_type": "execute_result"
    }
   ],
   "source": [
    "gp2_carburant"
   ]
  },
  {
   "cell_type": "code",
   "execution_count": 9,
   "id": "a4b1482c",
   "metadata": {},
   "outputs": [
    {
     "name": "stdout",
     "output_type": "stream",
     "text": [
      "Les anomalies sont :\n",
      "     matricule                 date  quantite  fournisseur  typePaiement  \\\n",
      "175        230  2023-06-03 08:09:00     86.65            0    1407018303   \n",
      "178        230  2023-06-14 19:10:00     83.12            0    1407018303   \n",
      "180        230  2023-06-20 06:24:00     50.38            0    1407018303   \n",
      "181        230  2023-06-20 15:26:00     70.03            0    1407018303   \n",
      "183        230  2023-06-23 19:29:00     81.11            0    1407018303   \n",
      "\n",
      "     note  station  diff_date  class_anomaly  \n",
      "175     3      122        1.0             -1  \n",
      "178     3       29        4.0             -1  \n",
      "180     3      108        0.0             -1  \n",
      "181     3      118        0.0             -1  \n",
      "183     3       10        1.0             -1  \n"
     ]
    },
    {
     "name": "stderr",
     "output_type": "stream",
     "text": [
      "/var/folders/sn/59b9cwm95v14m9wvpx_jfkxc0000gn/T/ipykernel_18737/3192688306.py:13: SettingWithCopyWarning: \n",
      "A value is trying to be set on a copy of a slice from a DataFrame.\n",
      "Try using .loc[row_indexer,col_indexer] = value instead\n",
      "\n",
      "See the caveats in the documentation: https://pandas.pydata.org/pandas-docs/stable/user_guide/indexing.html#returning-a-view-versus-a-copy\n",
      "  anomalies['class_anomaly']  = -1\n",
      "/var/folders/sn/59b9cwm95v14m9wvpx_jfkxc0000gn/T/ipykernel_18737/3192688306.py:14: SettingWithCopyWarning: \n",
      "A value is trying to be set on a copy of a slice from a DataFrame.\n",
      "Try using .loc[row_indexer,col_indexer] = value instead\n",
      "\n",
      "See the caveats in the documentation: https://pandas.pydata.org/pandas-docs/stable/user_guide/indexing.html#returning-a-view-versus-a-copy\n",
      "  normamles['class_anomaly']  = 1\n"
     ]
    }
   ],
   "source": [
    "# Définir un seuil pour déterminer ce qui est considéré comme une anomalie\n",
    "seuil_anomalie = 0.4 #vous pouvez ajuster ce seuil en fonction de vos besoins\n",
    "\n",
    "# Identifier les indices des points qui sont considérés comme des anomalies\n",
    "indices_anomalies = [i for i, score in enumerate(anomaly_scores) if score > seuil_anomalie]\n",
    "indices_normales = [i for i, score in enumerate(anomaly_scores) if score <= seuil_anomalie]\n",
    "\n",
    "# Afficher les données correspondant aux anomalies\n",
    "anomalies = gp2_carburant1.iloc[indices_anomalies]\n",
    "normamles = gp2_carburant1.iloc[indices_normales]\n",
    "\n",
    "\n",
    "anomalies['class_anomaly']  = -1\n",
    "normamles['class_anomaly']  = 1\n",
    "\n",
    "# Afficher les anomalies\n",
    "print(\"Les anomalies sont :\")\n",
    "print(anomalies.head())"
   ]
  },
  {
   "cell_type": "code",
   "execution_count": 10,
   "id": "56d57f36",
   "metadata": {},
   "outputs": [
    {
     "data": {
      "text/html": [
       "<div>\n",
       "<style scoped>\n",
       "    .dataframe tbody tr th:only-of-type {\n",
       "        vertical-align: middle;\n",
       "    }\n",
       "\n",
       "    .dataframe tbody tr th {\n",
       "        vertical-align: top;\n",
       "    }\n",
       "\n",
       "    .dataframe thead th {\n",
       "        text-align: right;\n",
       "    }\n",
       "</style>\n",
       "<table border=\"1\" class=\"dataframe\">\n",
       "  <thead>\n",
       "    <tr style=\"text-align: right;\">\n",
       "      <th></th>\n",
       "      <th>matricule</th>\n",
       "      <th>date</th>\n",
       "      <th>quantite</th>\n",
       "      <th>fournisseur</th>\n",
       "      <th>typePaiement</th>\n",
       "      <th>note</th>\n",
       "      <th>station</th>\n",
       "      <th>diff_date</th>\n",
       "      <th>class_anomaly</th>\n",
       "    </tr>\n",
       "  </thead>\n",
       "  <tbody>\n",
       "    <tr>\n",
       "      <th>0</th>\n",
       "      <td>230</td>\n",
       "      <td>2023-06-01 19:34:00</td>\n",
       "      <td>78.09</td>\n",
       "      <td>0</td>\n",
       "      <td>1407018303</td>\n",
       "      <td>3</td>\n",
       "      <td>29</td>\n",
       "      <td>3.0</td>\n",
       "      <td>1</td>\n",
       "    </tr>\n",
       "    <tr>\n",
       "      <th>1</th>\n",
       "      <td>230</td>\n",
       "      <td>2023-06-06 18:07:00</td>\n",
       "      <td>69.02</td>\n",
       "      <td>0</td>\n",
       "      <td>1407018303</td>\n",
       "      <td>3</td>\n",
       "      <td>29</td>\n",
       "      <td>3.0</td>\n",
       "      <td>1</td>\n",
       "    </tr>\n",
       "    <tr>\n",
       "      <th>2</th>\n",
       "      <td>230</td>\n",
       "      <td>2023-06-10 10:06:00</td>\n",
       "      <td>77.08</td>\n",
       "      <td>0</td>\n",
       "      <td>1407018303</td>\n",
       "      <td>3</td>\n",
       "      <td>108</td>\n",
       "      <td>3.0</td>\n",
       "      <td>1</td>\n",
       "    </tr>\n",
       "    <tr>\n",
       "      <th>3</th>\n",
       "      <td>230</td>\n",
       "      <td>2023-06-19 09:31:00</td>\n",
       "      <td>73.55</td>\n",
       "      <td>0</td>\n",
       "      <td>1407018303</td>\n",
       "      <td>3</td>\n",
       "      <td>13</td>\n",
       "      <td>4.0</td>\n",
       "      <td>1</td>\n",
       "    </tr>\n",
       "    <tr>\n",
       "      <th>4</th>\n",
       "      <td>230</td>\n",
       "      <td>2023-06-22 14:40:00</td>\n",
       "      <td>71.54</td>\n",
       "      <td>0</td>\n",
       "      <td>1407018303</td>\n",
       "      <td>3</td>\n",
       "      <td>45</td>\n",
       "      <td>1.0</td>\n",
       "      <td>1</td>\n",
       "    </tr>\n",
       "  </tbody>\n",
       "</table>\n",
       "</div>"
      ],
      "text/plain": [
       "   matricule                 date  quantite  fournisseur  typePaiement  note  \\\n",
       "0        230  2023-06-01 19:34:00     78.09            0    1407018303     3   \n",
       "1        230  2023-06-06 18:07:00     69.02            0    1407018303     3   \n",
       "2        230  2023-06-10 10:06:00     77.08            0    1407018303     3   \n",
       "3        230  2023-06-19 09:31:00     73.55            0    1407018303     3   \n",
       "4        230  2023-06-22 14:40:00     71.54            0    1407018303     3   \n",
       "\n",
       "   station  diff_date  class_anomaly  \n",
       "0       29        3.0              1  \n",
       "1       29        3.0              1  \n",
       "2      108        3.0              1  \n",
       "3       13        4.0              1  \n",
       "4       45        1.0              1  "
      ]
     },
     "execution_count": 10,
     "metadata": {},
     "output_type": "execute_result"
    }
   ],
   "source": [
    "new_data = pd.concat([normamles, anomalies], ignore_index=True)\n",
    "new_data.head()"
   ]
  },
  {
   "cell_type": "code",
   "execution_count": 11,
   "id": "8d13b8c1",
   "metadata": {},
   "outputs": [],
   "source": [
    "import matplotlib.pyplot as plt"
   ]
  },
  {
   "cell_type": "code",
   "execution_count": 12,
   "id": "745ef92f",
   "metadata": {},
   "outputs": [
    {
     "data": {
      "image/png": "[encoded data removed]",
      "text/plain": [
       "<Figure size 1000x400 with 1 Axes>"
      ]
     },
     "metadata": {},
     "output_type": "display_data"
    }
   ],
   "source": [
    "# Afficher les résultats\n",
    "fig, ax = plt.subplots(figsize = (10, 4))\n",
    "plt.plot(gp2_carburant1['date'], gp2_carburant1['quantite'], label='Données originales', color='blue')\n",
    "\n",
    "plt.scatter(anomalies['date'], anomalies['quantite'], color='red', label='Anomalies détectées', marker='o')\n",
    "\n",
    "for index, row in anomalies.iterrows():\n",
    "     plt.annotate((str(row['diff_date']) + ' jours'), (row['date'], row['quantite']), textcoords=\"offset points\", xytext=(10,7), ha='center', fontsize=10,\n",
    "                  )\n",
    "\n",
    "plt.xlabel('Date')\n",
    "plt.ylabel('Quantité de carburant versée en L')\n",
    "plt.title('Visualisation des données avec les anomalies détectées')\n",
    "plt.legend()\n",
    "plt.xticks(rotation=45)\n",
    "plt.show()"
   ]
  },
  {
   "cell_type": "markdown",
   "id": "9e652b9a",
   "metadata": {},
   "source": [
    "### Evaluation de EIF "
   ]
  },
  {
   "cell_type": "code",
   "execution_count": 13,
   "id": "2ccf5198",
   "metadata": {},
   "outputs": [
    {
     "name": "stdout",
     "output_type": "stream",
     "text": [
      "Silhouette Score: -0.0034877877638290773\n"
     ]
    }
   ],
   "source": [
    "from sklearn.metrics import silhouette_score\n",
    "\n",
    "# Calcul de la métrique silhouette\n",
    "new_data = new_data.drop(['date'],axis = 1)\n",
    "\n",
    "silhouette_avg = silhouette_score(new_data, new_data['class_anomaly'])\n",
    "print(\"Silhouette Score:\", silhouette_avg)"
   ]
  },
  {
   "cell_type": "code",
   "execution_count": 29,
   "id": "df6c9d73",
   "metadata": {},
   "outputs": [
    {
     "data": {
      "text/plain": [
       "-0.03"
      ]
     },
     "execution_count": 29,
     "metadata": {},
     "output_type": "execute_result"
    }
   ],
   "source": [
    "min(0.16,-0.003)"
   ]
  },
  {
   "cell_type": "code",
   "execution_count": 14,
   "id": "c71cafb6",
   "metadata": {},
   "outputs": [],
   "source": [
    "import numpy as np\n",
    "\n",
    "# Calcul de la stabilité en utilisant les prédictions de l'Isolation Forest\n",
    "def compute_stability(predictions, num_runs=10):\n",
    "    n_samples = len(predictions)\n",
    "    stability_scores = []\n",
    "    for _ in range(num_runs):\n",
    "        random_predictions = np.random.choice(predictions, n_samples, replace=False)\n",
    "        stability_score = np.mean(predictions == random_predictions)\n",
    "        stability_scores.append(stability_score)\n",
    "    return np.mean(stability_scores)\n"
   ]
  },
  {
   "cell_type": "code",
   "execution_count": 15,
   "id": "74156ee9",
   "metadata": {},
   "outputs": [
    {
     "name": "stdout",
     "output_type": "stream",
     "text": [
      "Stability Score: 0.5261538461538461\n"
     ]
    }
   ],
   "source": [
    "# Supposons que anomaly_predictions sont les prédictions de votre modèle Isolation Forest\n",
    "stability_score = compute_stability(new_data['class_anomaly'])\n",
    "print(\"Stability Score:\", stability_score)"
   ]
  },
  {
   "cell_type": "markdown",
   "id": "479e7a54",
   "metadata": {},
   "source": [
    "* Stabilité élevée : Une stabilité proche de 1 indique que les prédictions du modèle sont très cohérentes à travers différents échantillons de données. Cela suggère que le modèle est robuste et que ses décisions sont fiables même en présence de variations dans les données.\n",
    "\n",
    "\n",
    "* Stabilité faible : Une stabilité proche de 0 ou inférieure indique que les prédictions du modèle varient considérablement entre différents échantillons de données. Cela peut indiquer une sensibilité excessive aux variations dans les données ou des performances médiocres du modèle."
   ]
  },
  {
   "cell_type": "markdown",
   "id": "a26d017d",
   "metadata": {},
   "source": [
    "### Test sur de nouvelles données"
   ]
  },
  {
   "cell_type": "code",
   "execution_count": 16,
   "id": "1563cedb",
   "metadata": {},
   "outputs": [],
   "source": [
    "transactions = pd.DataFrame({\n",
    "    'matricule': [932, 932, 932],\n",
    "    'quantite': [28.91, 35.0,33.1],\n",
    "    'type_carburant': [0,0,0],\n",
    "    'fournisseur': [0,0,0],\n",
    "    'typePaiement': [1407022663,1407022663,1407022663],\n",
    "    'diff_date': [10.0,5.0,6.0]  # Différence de date en jours\n",
    "})\n"
   ]
  },
  {
   "cell_type": "code",
   "execution_count": 17,
   "id": "4cb2f01e",
   "metadata": {},
   "outputs": [],
   "source": [
    "anomaly_scores1 = iforest.compute_paths(X_in = transactions.to_numpy())"
   ]
  },
  {
   "cell_type": "code",
   "execution_count": 18,
   "id": "1d7b71a0",
   "metadata": {},
   "outputs": [
    {
     "name": "stdout",
     "output_type": "stream",
     "text": [
      "Les anomalies sont :\n",
      "   matricule  quantite  type_carburant  fournisseur  typePaiement  diff_date  \\\n",
      "0        932     28.91               0            0    1407022663       10.0   \n",
      "1        932     35.00               0            0    1407022663        5.0   \n",
      "2        932     33.10               0            0    1407022663        6.0   \n",
      "\n",
      "   class_anomaly1  \n",
      "0              -1  \n",
      "1              -1  \n",
      "2              -1  \n"
     ]
    }
   ],
   "source": [
    "# Identifier les indices des points qui sont considérés comme des anomalies\n",
    "indices_anomalies1 = [i for i, score in enumerate(anomaly_scores1) if score > seuil_anomalie]\n",
    "indices_normales1 = [i for i, score in enumerate(anomaly_scores1) if score <= seuil_anomalie]\n",
    "\n",
    "# Afficher les données correspondant aux anomalies\n",
    "anomalies1 = transactions.iloc[indices_anomalies1]\n",
    "normamles1 = transactions.iloc[indices_normales1]\n",
    "\n",
    "\n",
    "anomalies1['class_anomaly1']  = -1\n",
    "normamles1['class_anomaly1']  = 1\n",
    "\n",
    "# Afficher les anomalies\n",
    "print(\"Les anomalies sont :\")\n",
    "print(anomalies1)"
   ]
  },
  {
   "cell_type": "markdown",
   "id": "a635a13d",
   "metadata": {},
   "source": []
  },
  {
   "cell_type": "code",
   "execution_count": 19,
   "id": "f4239f94",
   "metadata": {},
   "outputs": [],
   "source": [
    "from sklearn.model_selection import cross_val_score\n",
    "\n",
    "def train_isolation_forest_model(mat_dataset):\n",
    "    \n",
    "    data = mat_dataset[['matricule','quantite','type_carburant','typePaiement','fournisseur','diff_date']]\n",
    "\n",
    "    scaler = StandardScaler()\n",
    "    np_scaled = scaler.fit_transform(data)\n",
    "\n",
    "    data = pd.DataFrame(np_scaled)\n",
    "\n",
    "    # Créer une instance de iForest avec les paramètres désirés\n",
    "    iforest = iso.iForest(gp2_carburant.to_numpy(), ntrees=100, sample_size=10, ExtensionLevel=2)\n",
    "\n",
    "    # Entraîner le modèle sur vos données\n",
    "    #iforest.fit(gp2_carburant)\n",
    "\n",
    "    # Obtenez les scores d'anomalie pour vos données\n",
    "    anomaly_scores = iforest.compute_paths(X_in = gp2_carburant.to_numpy())\n",
    "    mat_dataset['anomaly_if'] = ifo_model.predict(data)\n",
    "    return mat_dataset,ifo_model\n",
    "\n",
    "    # Marquer les points d'anomalies détectés\n",
    "    anomalies = mat_dataset[mat_dataset['anomaly1'] == -1]\n"
   ]
  },
  {
   "cell_type": "code",
   "execution_count": 20,
   "id": "a02d5d03",
   "metadata": {},
   "outputs": [
    {
     "name": "stdout",
     "output_type": "stream",
     "text": [
      "Empty DataFrame\n",
      "Columns: []\n",
      "Index: []\n"
     ]
    },
    {
     "ename": "NameError",
     "evalue": "name 'matricules' is not defined",
     "output_type": "error",
     "traceback": [
      "\u001b[0;31m---------------------------------------------------------------------------\u001b[0m",
      "\u001b[0;31mNameError\u001b[0m                                 Traceback (most recent call last)",
      "\u001b[0;32m/var/folders/sn/59b9cwm95v14m9wvpx_jfkxc0000gn/T/ipykernel_18737/2046957358.py\u001b[0m in \u001b[0;36m<module>\u001b[0;34m\u001b[0m\n\u001b[1;32m      2\u001b[0m \u001b[0mprint\u001b[0m\u001b[0;34m(\u001b[0m\u001b[0mif_final\u001b[0m\u001b[0;34m)\u001b[0m\u001b[0;34m\u001b[0m\u001b[0;34m\u001b[0m\u001b[0m\n\u001b[1;32m      3\u001b[0m \u001b[0mm\u001b[0m \u001b[0;34m=\u001b[0m \u001b[0;36m0\u001b[0m\u001b[0;34m\u001b[0m\u001b[0;34m\u001b[0m\u001b[0m\n\u001b[0;32m----> 4\u001b[0;31m \u001b[0;32mfor\u001b[0m \u001b[0mmat\u001b[0m \u001b[0;32min\u001b[0m \u001b[0mmatricules\u001b[0m \u001b[0;34m:\u001b[0m\u001b[0;34m\u001b[0m\u001b[0;34m\u001b[0m\u001b[0m\n\u001b[0m\u001b[1;32m      5\u001b[0m \u001b[0;34m\u001b[0m\u001b[0m\n\u001b[1;32m      6\u001b[0m     \u001b[0mdata_per_mat\u001b[0m \u001b[0;34m=\u001b[0m \u001b[0mdataframe\u001b[0m\u001b[0;34m[\u001b[0m\u001b[0mdataframe\u001b[0m\u001b[0;34m[\u001b[0m\u001b[0;34m'matricule'\u001b[0m\u001b[0;34m]\u001b[0m \u001b[0;34m==\u001b[0m \u001b[0mmat\u001b[0m\u001b[0;34m]\u001b[0m\u001b[0;34m\u001b[0m\u001b[0;34m\u001b[0m\u001b[0m\n",
      "\u001b[0;31mNameError\u001b[0m: name 'matricules' is not defined"
     ]
    }
   ],
   "source": [
    "if_final = pd.DataFrame()\n",
    "print(if_final)\n",
    "m = 0 \n",
    "for mat in matricules :\n",
    "    \n",
    "    data_per_mat = dataframe[dataframe['matricule'] == mat]\n",
    "    \n",
    "    if_dataset,m = train_isolation_forest_model(data_per_mat)\n",
    "    if_final = pd.concat([if_final, if_dataset], ignore_index = True)\n",
    "    \n",
    "print(mat)\n",
    "print(m)    \n",
    "print(if_final.shape)"
   ]
  },
  {
   "cell_type": "code",
   "execution_count": 21,
   "id": "6cac176c",
   "metadata": {},
   "outputs": [],
   "source": [
    "from sklearn.metrics import v_measure_score\n"
   ]
  },
  {
   "cell_type": "code",
   "execution_count": 22,
   "id": "815fd34c",
   "metadata": {},
   "outputs": [
    {
     "data": {
      "image/png": "[encoded data removed]",
      "text/plain": [
       "<Figure size 640x480 with 2 Axes>"
      ]
     },
     "metadata": {},
     "output_type": "display_data"
    }
   ],
   "source": [
    "import matplotlib.pyplot as plt\n",
    "import numpy as np\n",
    "from sklearn.ensemble import IsolationForest\n",
    "\n",
    "# Générer des données de démonstration (remplacez cela par vos propres données)\n",
    "np.random.seed(42)\n",
    "X = np.random.randn(100, 2)  # 100 échantillons, 2 caractéristiques\n",
    "\n",
    "# Créer et ajuster le modèle Isolation Forest\n",
    "iforest = IsolationForest(contamination=0.1)  # Utilisation d'une contamination de 10% comme exemple\n",
    "iforest.fit(X)\n",
    "\n",
    "# Prédire les anomalies (1 pour normal, -1 pour anomalie)\n",
    "anomaly_preds = iforest.predict(X)\n",
    "\n",
    "# Tracer le nuage de points avec coloration par prédiction d'anomalie\n",
    "plt.scatter(X[:, 0], X[:, 1], c=anomaly_preds, cmap='coolwarm')\n",
    "plt.colorbar(label='Anomaly Prediction')  # Légende de la couleur\n",
    "plt.title('Isolation Forest Anomaly Detection')\n",
    "plt.xlabel('Feature 1')\n",
    "plt.ylabel('Feature 2')\n",
    "plt.show()\n"
   ]
  },
  {
   "cell_type": "code",
   "execution_count": 23,
   "id": "e98b3320",
   "metadata": {},
   "outputs": [
    {
     "name": "stdout",
     "output_type": "stream",
     "text": [
      "Requirement already satisfied: h2o in /opt/anaconda3/lib/python3.9/site-packages (3.46.0.1)\n",
      "Requirement already satisfied: requests in /opt/anaconda3/lib/python3.9/site-packages (from h2o) (2.31.0)\n",
      "Requirement already satisfied: tabulate in /opt/anaconda3/lib/python3.9/site-packages (from h2o) (0.8.10)\n",
      "Requirement already satisfied: charset-normalizer<4,>=2 in /opt/anaconda3/lib/python3.9/site-packages (from requests->h2o) (2.0.4)\n",
      "Requirement already satisfied: idna<4,>=2.5 in /opt/anaconda3/lib/python3.9/site-packages (from requests->h2o) (3.3)\n",
      "Requirement already satisfied: urllib3<3,>=1.21.1 in /opt/anaconda3/lib/python3.9/site-packages (from requests->h2o) (2.2.1)\n",
      "Requirement already satisfied: certifi>=2017.4.17 in /opt/anaconda3/lib/python3.9/site-packages (from requests->h2o) (2022.9.24)\n",
      "\n",
      "\u001b[1m[\u001b[0m\u001b[34;49mnotice\u001b[0m\u001b[1;39;49m]\u001b[0m\u001b[39;49m A new release of pip is available: \u001b[0m\u001b[31;49m23.3.1\u001b[0m\u001b[39;49m -> \u001b[0m\u001b[32;49m24.0\u001b[0m\n",
      "\u001b[1m[\u001b[0m\u001b[34;49mnotice\u001b[0m\u001b[1;39;49m]\u001b[0m\u001b[39;49m To update, run: \u001b[0m\u001b[32;49mpip install --upgrade pip\u001b[0m\n",
      "Note: you may need to restart the kernel to use updated packages.\n"
     ]
    }
   ],
   "source": [
    "pip install h2o"
   ]
  },
  {
   "cell_type": "code",
   "execution_count": 24,
   "id": "5ede15f0",
   "metadata": {},
   "outputs": [
    {
     "name": "stdout",
     "output_type": "stream",
     "text": [
      "Checking whether there is an H2O instance running at http://localhost:54321..... not found.\n",
      "Attempting to start a local H2O server...\n",
      "  Java Version: openjdk version \"11.0.16.1\" 2022-08-12 LTS; OpenJDK Runtime Environment Microsoft-40648 (build 11.0.16.1+1-LTS); OpenJDK 64-Bit Server VM Microsoft-40648 (build 11.0.16.1+1-LTS, mixed mode)\n",
      "  Starting server from /opt/anaconda3/lib/python3.9/site-packages/h2o/backend/bin/h2o.jar\n",
      "  Ice root: /var/folders/sn/59b9cwm95v14m9wvpx_jfkxc0000gn/T/tmppcu3hcli\n",
      "  JVM stdout: /var/folders/sn/59b9cwm95v14m9wvpx_jfkxc0000gn/T/tmppcu3hcli/h2o_abdelwahed_started_from_python.out\n",
      "  JVM stderr: /var/folders/sn/59b9cwm95v14m9wvpx_jfkxc0000gn/T/tmppcu3hcli/h2o_abdelwahed_started_from_python.err\n",
      "  Server is running at http://127.0.0.1:54321\n",
      "Connecting to H2O server at http://127.0.0.1:54321 ... successful.\n"
     ]
    },
    {
     "data": {
      "text/html": [
       "\n",
       "<style>\n",
       "\n",
       "#h2o-table-1.h2o-container {\n",
       "  overflow-x: auto;\n",
       "}\n",
       "#h2o-table-1 .h2o-table {\n",
       "  /* width: 100%; */\n",
       "  margin-top: 1em;\n",
       "  margin-bottom: 1em;\n",
       "}\n",
       "#h2o-table-1 .h2o-table caption {\n",
       "  white-space: nowrap;\n",
       "  caption-side: top;\n",
       "  text-align: left;\n",
       "  /* margin-left: 1em; */\n",
       "  margin: 0;\n",
       "  font-size: larger;\n",
       "}\n",
       "#h2o-table-1 .h2o-table thead {\n",
       "  white-space: nowrap; \n",
       "  position: sticky;\n",
       "  top: 0;\n",
       "  box-shadow: 0 -1px inset;\n",
       "}\n",
       "#h2o-table-1 .h2o-table tbody {\n",
       "  overflow: auto;\n",
       "}\n",
       "#h2o-table-1 .h2o-table th,\n",
       "#h2o-table-1 .h2o-table td {\n",
       "  text-align: right;\n",
       "  /* border: 1px solid; */\n",
       "}\n",
       "#h2o-table-1 .h2o-table tr:nth-child(even) {\n",
       "  /* background: #F5F5F5 */\n",
       "}\n",
       "\n",
       "</style>      \n",
       "<div id=\"h2o-table-1\" class=\"h2o-container\">\n",
       "  <table class=\"h2o-table\">\n",
       "    <caption></caption>\n",
       "    <thead></thead>\n",
       "    <tbody><tr><td>H2O_cluster_uptime:</td>\n",
       "<td>02 secs</td></tr>\n",
       "<tr><td>H2O_cluster_timezone:</td>\n",
       "<td>Africa/Tunis</td></tr>\n",
       "<tr><td>H2O_data_parsing_timezone:</td>\n",
       "<td>UTC</td></tr>\n",
       "<tr><td>H2O_cluster_version:</td>\n",
       "<td>3.46.0.1</td></tr>\n",
       "<tr><td>H2O_cluster_version_age:</td>\n",
       "<td>1 month and 11 days</td></tr>\n",
       "<tr><td>H2O_cluster_name:</td>\n",
       "<td>H2O_from_python_abdelwahed_9ofcd5</td></tr>\n",
       "<tr><td>H2O_cluster_total_nodes:</td>\n",
       "<td>1</td></tr>\n",
       "<tr><td>H2O_cluster_free_memory:</td>\n",
       "<td>4 Gb</td></tr>\n",
       "<tr><td>H2O_cluster_total_cores:</td>\n",
       "<td>8</td></tr>\n",
       "<tr><td>H2O_cluster_allowed_cores:</td>\n",
       "<td>8</td></tr>\n",
       "<tr><td>H2O_cluster_status:</td>\n",
       "<td>locked, healthy</td></tr>\n",
       "<tr><td>H2O_connection_url:</td>\n",
       "<td>http://127.0.0.1:54321</td></tr>\n",
       "<tr><td>H2O_connection_proxy:</td>\n",
       "<td>{\"http\": null, \"https\": null}</td></tr>\n",
       "<tr><td>H2O_internal_security:</td>\n",
       "<td>False</td></tr>\n",
       "<tr><td>Python_version:</td>\n",
       "<td>3.9.13 final</td></tr></tbody>\n",
       "  </table>\n",
       "</div>\n"
      ],
      "text/plain": [
       "--------------------------  ---------------------------------\n",
       "H2O_cluster_uptime:         02 secs\n",
       "H2O_cluster_timezone:       Africa/Tunis\n",
       "H2O_data_parsing_timezone:  UTC\n",
       "H2O_cluster_version:        3.46.0.1\n",
       "H2O_cluster_version_age:    1 month and 11 days\n",
       "H2O_cluster_name:           H2O_from_python_abdelwahed_9ofcd5\n",
       "H2O_cluster_total_nodes:    1\n",
       "H2O_cluster_free_memory:    4 Gb\n",
       "H2O_cluster_total_cores:    8\n",
       "H2O_cluster_allowed_cores:  8\n",
       "H2O_cluster_status:         locked, healthy\n",
       "H2O_connection_url:         http://127.0.0.1:54321\n",
       "H2O_connection_proxy:       {\"http\": null, \"https\": null}\n",
       "H2O_internal_security:      False\n",
       "Python_version:             3.9.13 final\n",
       "--------------------------  ---------------------------------"
      ]
     },
     "metadata": {},
     "output_type": "display_data"
    },
    {
     "name": "stdout",
     "output_type": "stream",
     "text": [
      "Parse progress: |████████████████████████████████████████████████████████████████| (done) 100%\n",
      "extendedisolationforest Model Build progress: |██████████████████████████████████| (done) 100%\n",
      "extendedisolationforest prediction progress: |███████████████████████████████████| (done) 100%\n"
     ]
    }
   ],
   "source": [
    "import h2o\n",
    "from h2o.estimators import H2OExtendedIsolationForestEstimator\n",
    "h2o.init()\n",
    "\n",
    "# Import the prostate dataset\n",
    "h2o_df = h2o.import_file(\"https://raw.github.com/h2oai/h2o/master/smalldata/logreg/prostate.csv\")\n",
    "\n",
    "# Set the predictors\n",
    "predictors = [\"AGE\",\"RACE\",\"DPROS\",\"DCAPS\",\"PSA\",\"VOL\",\"GLEASON\"]\n",
    "\n",
    "# Define an Extended Isolation forest model\n",
    "eif = H2OExtendedIsolationForestEstimator(model_id = \"eif.hex\",\n",
    "                                          ntrees = 100,\n",
    "                                          sample_size = 256,\n",
    "                                          extension_level = len(predictors) - 1)\n",
    "\n",
    "# Train Extended Isolation Forest\n",
    "eif.train(x = predictors,\n",
    "          training_frame = h2o_df)\n",
    "\n",
    "# Calculate score\n",
    "eif_result = eif.predict(h2o_df)\n",
    "\n",
    "# Number in [0, 1] explicitly defined in Equation (1) from Extended Isolation Forest paper\n",
    "# or in paragraph '2 Isolation and Isolation Trees' of Isolation Forest paper\n",
    "anomaly_score = eif_result[\"anomaly_score\"]\n",
    "\n",
    "# Average path length  of the point in Isolation Trees from root to the leaf\n",
    "mean_length = eif_result[\"mean_length\"]"
   ]
  },
  {
   "cell_type": "code",
   "execution_count": 25,
   "id": "dbe3810a",
   "metadata": {},
   "outputs": [
    {
     "data": {
      "text/html": [
       "<table class='dataframe'>\n",
       "<thead>\n",
       "<tr><th style=\"text-align: right;\">  anomaly_score</th></tr>\n",
       "</thead>\n",
       "<tbody>\n",
       "<tr><td style=\"text-align: right;\">       0.373303</td></tr>\n",
       "<tr><td style=\"text-align: right;\">       0.369153</td></tr>\n",
       "<tr><td style=\"text-align: right;\">       0.363382</td></tr>\n",
       "<tr><td style=\"text-align: right;\">       0.508817</td></tr>\n",
       "<tr><td style=\"text-align: right;\">       0.456455</td></tr>\n",
       "<tr><td style=\"text-align: right;\">       0.377786</td></tr>\n",
       "<tr><td style=\"text-align: right;\">       0.423214</td></tr>\n",
       "<tr><td style=\"text-align: right;\">       0.525589</td></tr>\n",
       "<tr><td style=\"text-align: right;\">       0.367929</td></tr>\n",
       "<tr><td style=\"text-align: right;\">       0.365248</td></tr>\n",
       "</tbody>\n",
       "</table><pre style='font-size: smaller; margin-bottom: 1em;'>[380 rows x 1 column]</pre>"
      ],
      "text/plain": [
       "  anomaly_score\n",
       "---------------\n",
       "       0.373303\n",
       "       0.369153\n",
       "       0.363382\n",
       "       0.508817\n",
       "       0.456455\n",
       "       0.377786\n",
       "       0.423214\n",
       "       0.525589\n",
       "       0.367929\n",
       "       0.365248\n",
       "[380 rows x 1 column]\n"
      ]
     },
     "execution_count": 25,
     "metadata": {},
     "output_type": "execute_result"
    }
   ],
   "source": [
    "anomaly_score"
   ]
  },
  {
   "cell_type": "code",
   "execution_count": 26,
   "id": "e4587eb5",
   "metadata": {},
   "outputs": [
    {
     "name": "stdout",
     "output_type": "stream",
     "text": [
      "Requirement already satisfied: deepod in /opt/anaconda3/lib/python3.9/site-packages (0.4.1)\n",
      "Requirement already satisfied: numpy>=1.19 in /opt/anaconda3/lib/python3.9/site-packages (from deepod) (1.24.3)\n",
      "Requirement already satisfied: scipy>=1.5.1 in /opt/anaconda3/lib/python3.9/site-packages (from deepod) (1.8.1)\n",
      "Requirement already satisfied: scikit-learn>=0.20.0 in /opt/anaconda3/lib/python3.9/site-packages (from deepod) (1.0.2)\n",
      "Requirement already satisfied: pandas>=1.0.0 in /opt/anaconda3/lib/python3.9/site-packages (from deepod) (1.4.4)\n",
      "Requirement already satisfied: torch<1.13.1,>=1.10.0 in /opt/anaconda3/lib/python3.9/site-packages (from deepod) (1.13.0)\n",
      "Requirement already satisfied: tqdm>=4.62.3 in /opt/anaconda3/lib/python3.9/site-packages (from deepod) (4.64.1)\n",
      "Requirement already satisfied: python-dateutil>=2.8.1 in /opt/anaconda3/lib/python3.9/site-packages (from pandas>=1.0.0->deepod) (2.8.2)\n",
      "Requirement already satisfied: pytz>=2020.1 in /opt/anaconda3/lib/python3.9/site-packages (from pandas>=1.0.0->deepod) (2024.1)\n",
      "Requirement already satisfied: joblib>=0.11 in /opt/anaconda3/lib/python3.9/site-packages (from scikit-learn>=0.20.0->deepod) (1.1.0)\n",
      "Requirement already satisfied: threadpoolctl>=2.0.0 in /opt/anaconda3/lib/python3.9/site-packages (from scikit-learn>=0.20.0->deepod) (2.2.0)\n",
      "Requirement already satisfied: typing-extensions in /opt/anaconda3/lib/python3.9/site-packages (from torch<1.13.1,>=1.10.0->deepod) (4.8.0)\n",
      "Requirement already satisfied: six>=1.5 in /opt/anaconda3/lib/python3.9/site-packages (from python-dateutil>=2.8.1->pandas>=1.0.0->deepod) (1.16.0)\n",
      "\n",
      "\u001b[1m[\u001b[0m\u001b[34;49mnotice\u001b[0m\u001b[1;39;49m]\u001b[0m\u001b[39;49m A new release of pip is available: \u001b[0m\u001b[31;49m23.3.1\u001b[0m\u001b[39;49m -> \u001b[0m\u001b[32;49m24.0\u001b[0m\n",
      "\u001b[1m[\u001b[0m\u001b[34;49mnotice\u001b[0m\u001b[1;39;49m]\u001b[0m\u001b[39;49m To update, run: \u001b[0m\u001b[32;49mpip install --upgrade pip\u001b[0m\n",
      "Note: you may need to restart the kernel to use updated packages.\n"
     ]
    }
   ],
   "source": [
    "pip install deepod "
   ]
  },
  {
   "cell_type": "code",
   "execution_count": 27,
   "id": "723b06f2",
   "metadata": {},
   "outputs": [
    {
     "name": "stdout",
     "output_type": "stream",
     "text": [
      "Start Training...\n",
      "ensemble size: 1\n"
     ]
    },
    {
     "ename": "AssertionError",
     "evalue": "Torch not compiled with CUDA enabled",
     "output_type": "error",
     "traceback": [
      "\u001b[0;31m---------------------------------------------------------------------------\u001b[0m",
      "\u001b[0;31mAssertionError\u001b[0m                            Traceback (most recent call last)",
      "\u001b[0;32m/var/folders/sn/59b9cwm95v14m9wvpx_jfkxc0000gn/T/ipykernel_18737/1579854946.py\u001b[0m in \u001b[0;36m<module>\u001b[0;34m\u001b[0m\n\u001b[1;32m      3\u001b[0m \u001b[0;31m# training an anomaly detection model\u001b[0m\u001b[0;34m\u001b[0m\u001b[0;34m\u001b[0m\u001b[0m\n\u001b[1;32m      4\u001b[0m \u001b[0mmodel\u001b[0m \u001b[0;34m=\u001b[0m \u001b[0mDeepSVDD\u001b[0m\u001b[0;34m(\u001b[0m\u001b[0;34m)\u001b[0m \u001b[0;31m# or any other models in DeepOD\u001b[0m\u001b[0;34m\u001b[0m\u001b[0;34m\u001b[0m\u001b[0m\n\u001b[0;32m----> 5\u001b[0;31m \u001b[0mmodel\u001b[0m\u001b[0;34m.\u001b[0m\u001b[0mfit\u001b[0m\u001b[0;34m(\u001b[0m\u001b[0mgp2_carburant\u001b[0m\u001b[0;34m)\u001b[0m \u001b[0;31m# training\u001b[0m\u001b[0;34m\u001b[0m\u001b[0;34m\u001b[0m\u001b[0m\n\u001b[0m\u001b[1;32m      6\u001b[0m \u001b[0;34m\u001b[0m\u001b[0m\n\u001b[1;32m      7\u001b[0m \u001b[0;31m#path = 'save_file.pkl'\u001b[0m\u001b[0;34m\u001b[0m\u001b[0;34m\u001b[0m\u001b[0m\n",
      "\u001b[0;32m/opt/anaconda3/lib/python3.9/site-packages/deepod/core/base_model.py\u001b[0m in \u001b[0;36mfit\u001b[0;34m(self, X, y)\u001b[0m\n\u001b[1;32m    181\u001b[0m \u001b[0;34m\u001b[0m\u001b[0m\n\u001b[1;32m    182\u001b[0m         \u001b[0;32mfor\u001b[0m \u001b[0m_\u001b[0m \u001b[0;32min\u001b[0m \u001b[0mrange\u001b[0m\u001b[0;34m(\u001b[0m\u001b[0mself\u001b[0m\u001b[0;34m.\u001b[0m\u001b[0mn_ensemble\u001b[0m\u001b[0;34m)\u001b[0m\u001b[0;34m:\u001b[0m\u001b[0;34m\u001b[0m\u001b[0;34m\u001b[0m\u001b[0m\n\u001b[0;32m--> 183\u001b[0;31m             self.train_loader, self.net, self.criterion = self.training_prepare(self.train_data,\n\u001b[0m\u001b[1;32m    184\u001b[0m                                                                                 y=self.train_label)\n\u001b[1;32m    185\u001b[0m             \u001b[0mself\u001b[0m\u001b[0;34m.\u001b[0m\u001b[0m_training\u001b[0m\u001b[0;34m(\u001b[0m\u001b[0;34m)\u001b[0m\u001b[0;34m\u001b[0m\u001b[0;34m\u001b[0m\u001b[0m\n",
      "\u001b[0;32m/opt/anaconda3/lib/python3.9/site-packages/deepod/models/tabular/dsvdd.py\u001b[0m in \u001b[0;36mtraining_prepare\u001b[0;34m(self, X, y)\u001b[0m\n\u001b[1;32m     91\u001b[0m             \u001b[0;34m'bias'\u001b[0m\u001b[0;34m:\u001b[0m \u001b[0mself\u001b[0m\u001b[0;34m.\u001b[0m\u001b[0mbias\u001b[0m\u001b[0;34m\u001b[0m\u001b[0;34m\u001b[0m\u001b[0m\n\u001b[1;32m     92\u001b[0m         }\n\u001b[0;32m---> 93\u001b[0;31m         \u001b[0mnet\u001b[0m \u001b[0;34m=\u001b[0m \u001b[0mMLPnet\u001b[0m\u001b[0;34m(\u001b[0m\u001b[0;34m**\u001b[0m\u001b[0mnetwork_params\u001b[0m\u001b[0;34m)\u001b[0m\u001b[0;34m.\u001b[0m\u001b[0mto\u001b[0m\u001b[0;34m(\u001b[0m\u001b[0mself\u001b[0m\u001b[0;34m.\u001b[0m\u001b[0mdevice\u001b[0m\u001b[0;34m)\u001b[0m\u001b[0;34m\u001b[0m\u001b[0;34m\u001b[0m\u001b[0m\n\u001b[0m\u001b[1;32m     94\u001b[0m \u001b[0;34m\u001b[0m\u001b[0m\n\u001b[1;32m     95\u001b[0m         \u001b[0mself\u001b[0m\u001b[0;34m.\u001b[0m\u001b[0mc\u001b[0m \u001b[0;34m=\u001b[0m \u001b[0mself\u001b[0m\u001b[0;34m.\u001b[0m\u001b[0m_set_c\u001b[0m\u001b[0;34m(\u001b[0m\u001b[0mnet\u001b[0m\u001b[0;34m,\u001b[0m \u001b[0mtrain_loader\u001b[0m\u001b[0;34m)\u001b[0m\u001b[0;34m\u001b[0m\u001b[0;34m\u001b[0m\u001b[0m\n",
      "\u001b[0;32m/opt/anaconda3/lib/python3.9/site-packages/torch/nn/modules/module.py\u001b[0m in \u001b[0;36mto\u001b[0;34m(self, *args, **kwargs)\u001b[0m\n\u001b[1;32m    985\u001b[0m             \u001b[0;32mreturn\u001b[0m \u001b[0mt\u001b[0m\u001b[0;34m.\u001b[0m\u001b[0mto\u001b[0m\u001b[0;34m(\u001b[0m\u001b[0mdevice\u001b[0m\u001b[0;34m,\u001b[0m \u001b[0mdtype\u001b[0m \u001b[0;32mif\u001b[0m \u001b[0mt\u001b[0m\u001b[0;34m.\u001b[0m\u001b[0mis_floating_point\u001b[0m\u001b[0;34m(\u001b[0m\u001b[0;34m)\u001b[0m \u001b[0;32mor\u001b[0m \u001b[0mt\u001b[0m\u001b[0;34m.\u001b[0m\u001b[0mis_complex\u001b[0m\u001b[0;34m(\u001b[0m\u001b[0;34m)\u001b[0m \u001b[0;32melse\u001b[0m \u001b[0;32mNone\u001b[0m\u001b[0;34m,\u001b[0m \u001b[0mnon_blocking\u001b[0m\u001b[0;34m)\u001b[0m\u001b[0;34m\u001b[0m\u001b[0;34m\u001b[0m\u001b[0m\n\u001b[1;32m    986\u001b[0m \u001b[0;34m\u001b[0m\u001b[0m\n\u001b[0;32m--> 987\u001b[0;31m         \u001b[0;32mreturn\u001b[0m \u001b[0mself\u001b[0m\u001b[0;34m.\u001b[0m\u001b[0m_apply\u001b[0m\u001b[0;34m(\u001b[0m\u001b[0mconvert\u001b[0m\u001b[0;34m)\u001b[0m\u001b[0;34m\u001b[0m\u001b[0;34m\u001b[0m\u001b[0m\n\u001b[0m\u001b[1;32m    988\u001b[0m \u001b[0;34m\u001b[0m\u001b[0m\n\u001b[1;32m    989\u001b[0m     def register_backward_hook(\n",
      "\u001b[0;32m/opt/anaconda3/lib/python3.9/site-packages/torch/nn/modules/module.py\u001b[0m in \u001b[0;36m_apply\u001b[0;34m(self, fn)\u001b[0m\n\u001b[1;32m    637\u001b[0m     \u001b[0;32mdef\u001b[0m \u001b[0m_apply\u001b[0m\u001b[0;34m(\u001b[0m\u001b[0mself\u001b[0m\u001b[0;34m,\u001b[0m \u001b[0mfn\u001b[0m\u001b[0;34m)\u001b[0m\u001b[0;34m:\u001b[0m\u001b[0;34m\u001b[0m\u001b[0;34m\u001b[0m\u001b[0m\n\u001b[1;32m    638\u001b[0m         \u001b[0;32mfor\u001b[0m \u001b[0mmodule\u001b[0m \u001b[0;32min\u001b[0m \u001b[0mself\u001b[0m\u001b[0;34m.\u001b[0m\u001b[0mchildren\u001b[0m\u001b[0;34m(\u001b[0m\u001b[0;34m)\u001b[0m\u001b[0;34m:\u001b[0m\u001b[0;34m\u001b[0m\u001b[0;34m\u001b[0m\u001b[0m\n\u001b[0;32m--> 639\u001b[0;31m             \u001b[0mmodule\u001b[0m\u001b[0;34m.\u001b[0m\u001b[0m_apply\u001b[0m\u001b[0;34m(\u001b[0m\u001b[0mfn\u001b[0m\u001b[0;34m)\u001b[0m\u001b[0;34m\u001b[0m\u001b[0;34m\u001b[0m\u001b[0m\n\u001b[0m\u001b[1;32m    640\u001b[0m \u001b[0;34m\u001b[0m\u001b[0m\n\u001b[1;32m    641\u001b[0m         \u001b[0;32mdef\u001b[0m \u001b[0mcompute_should_use_set_data\u001b[0m\u001b[0;34m(\u001b[0m\u001b[0mtensor\u001b[0m\u001b[0;34m,\u001b[0m \u001b[0mtensor_applied\u001b[0m\u001b[0;34m)\u001b[0m\u001b[0;34m:\u001b[0m\u001b[0;34m\u001b[0m\u001b[0;34m\u001b[0m\u001b[0m\n",
      "\u001b[0;32m/opt/anaconda3/lib/python3.9/site-packages/torch/nn/modules/module.py\u001b[0m in \u001b[0;36m_apply\u001b[0;34m(self, fn)\u001b[0m\n\u001b[1;32m    637\u001b[0m     \u001b[0;32mdef\u001b[0m \u001b[0m_apply\u001b[0m\u001b[0;34m(\u001b[0m\u001b[0mself\u001b[0m\u001b[0;34m,\u001b[0m \u001b[0mfn\u001b[0m\u001b[0;34m)\u001b[0m\u001b[0;34m:\u001b[0m\u001b[0;34m\u001b[0m\u001b[0;34m\u001b[0m\u001b[0m\n\u001b[1;32m    638\u001b[0m         \u001b[0;32mfor\u001b[0m \u001b[0mmodule\u001b[0m \u001b[0;32min\u001b[0m \u001b[0mself\u001b[0m\u001b[0;34m.\u001b[0m\u001b[0mchildren\u001b[0m\u001b[0;34m(\u001b[0m\u001b[0;34m)\u001b[0m\u001b[0;34m:\u001b[0m\u001b[0;34m\u001b[0m\u001b[0;34m\u001b[0m\u001b[0m\n\u001b[0;32m--> 639\u001b[0;31m             \u001b[0mmodule\u001b[0m\u001b[0;34m.\u001b[0m\u001b[0m_apply\u001b[0m\u001b[0;34m(\u001b[0m\u001b[0mfn\u001b[0m\u001b[0;34m)\u001b[0m\u001b[0;34m\u001b[0m\u001b[0;34m\u001b[0m\u001b[0m\n\u001b[0m\u001b[1;32m    640\u001b[0m \u001b[0;34m\u001b[0m\u001b[0m\n\u001b[1;32m    641\u001b[0m         \u001b[0;32mdef\u001b[0m \u001b[0mcompute_should_use_set_data\u001b[0m\u001b[0;34m(\u001b[0m\u001b[0mtensor\u001b[0m\u001b[0;34m,\u001b[0m \u001b[0mtensor_applied\u001b[0m\u001b[0;34m)\u001b[0m\u001b[0;34m:\u001b[0m\u001b[0;34m\u001b[0m\u001b[0;34m\u001b[0m\u001b[0m\n",
      "\u001b[0;32m/opt/anaconda3/lib/python3.9/site-packages/torch/nn/modules/module.py\u001b[0m in \u001b[0;36m_apply\u001b[0;34m(self, fn)\u001b[0m\n\u001b[1;32m    637\u001b[0m     \u001b[0;32mdef\u001b[0m \u001b[0m_apply\u001b[0m\u001b[0;34m(\u001b[0m\u001b[0mself\u001b[0m\u001b[0;34m,\u001b[0m \u001b[0mfn\u001b[0m\u001b[0;34m)\u001b[0m\u001b[0;34m:\u001b[0m\u001b[0;34m\u001b[0m\u001b[0;34m\u001b[0m\u001b[0m\n\u001b[1;32m    638\u001b[0m         \u001b[0;32mfor\u001b[0m \u001b[0mmodule\u001b[0m \u001b[0;32min\u001b[0m \u001b[0mself\u001b[0m\u001b[0;34m.\u001b[0m\u001b[0mchildren\u001b[0m\u001b[0;34m(\u001b[0m\u001b[0;34m)\u001b[0m\u001b[0;34m:\u001b[0m\u001b[0;34m\u001b[0m\u001b[0;34m\u001b[0m\u001b[0m\n\u001b[0;32m--> 639\u001b[0;31m             \u001b[0mmodule\u001b[0m\u001b[0;34m.\u001b[0m\u001b[0m_apply\u001b[0m\u001b[0;34m(\u001b[0m\u001b[0mfn\u001b[0m\u001b[0;34m)\u001b[0m\u001b[0;34m\u001b[0m\u001b[0;34m\u001b[0m\u001b[0m\n\u001b[0m\u001b[1;32m    640\u001b[0m \u001b[0;34m\u001b[0m\u001b[0m\n\u001b[1;32m    641\u001b[0m         \u001b[0;32mdef\u001b[0m \u001b[0mcompute_should_use_set_data\u001b[0m\u001b[0;34m(\u001b[0m\u001b[0mtensor\u001b[0m\u001b[0;34m,\u001b[0m \u001b[0mtensor_applied\u001b[0m\u001b[0;34m)\u001b[0m\u001b[0;34m:\u001b[0m\u001b[0;34m\u001b[0m\u001b[0;34m\u001b[0m\u001b[0m\n",
      "\u001b[0;32m/opt/anaconda3/lib/python3.9/site-packages/torch/nn/modules/module.py\u001b[0m in \u001b[0;36m_apply\u001b[0;34m(self, fn)\u001b[0m\n\u001b[1;32m    660\u001b[0m             \u001b[0;31m# `with torch.no_grad():`\u001b[0m\u001b[0;34m\u001b[0m\u001b[0;34m\u001b[0m\u001b[0m\n\u001b[1;32m    661\u001b[0m             \u001b[0;32mwith\u001b[0m \u001b[0mtorch\u001b[0m\u001b[0;34m.\u001b[0m\u001b[0mno_grad\u001b[0m\u001b[0;34m(\u001b[0m\u001b[0;34m)\u001b[0m\u001b[0;34m:\u001b[0m\u001b[0;34m\u001b[0m\u001b[0;34m\u001b[0m\u001b[0m\n\u001b[0;32m--> 662\u001b[0;31m                 \u001b[0mparam_applied\u001b[0m \u001b[0;34m=\u001b[0m \u001b[0mfn\u001b[0m\u001b[0;34m(\u001b[0m\u001b[0mparam\u001b[0m\u001b[0;34m)\u001b[0m\u001b[0;34m\u001b[0m\u001b[0;34m\u001b[0m\u001b[0m\n\u001b[0m\u001b[1;32m    663\u001b[0m             \u001b[0mshould_use_set_data\u001b[0m \u001b[0;34m=\u001b[0m \u001b[0mcompute_should_use_set_data\u001b[0m\u001b[0;34m(\u001b[0m\u001b[0mparam\u001b[0m\u001b[0;34m,\u001b[0m \u001b[0mparam_applied\u001b[0m\u001b[0;34m)\u001b[0m\u001b[0;34m\u001b[0m\u001b[0;34m\u001b[0m\u001b[0m\n\u001b[1;32m    664\u001b[0m             \u001b[0;32mif\u001b[0m \u001b[0mshould_use_set_data\u001b[0m\u001b[0;34m:\u001b[0m\u001b[0;34m\u001b[0m\u001b[0;34m\u001b[0m\u001b[0m\n",
      "\u001b[0;32m/opt/anaconda3/lib/python3.9/site-packages/torch/nn/modules/module.py\u001b[0m in \u001b[0;36mconvert\u001b[0;34m(t)\u001b[0m\n\u001b[1;32m    983\u001b[0m                 return t.to(device, dtype if t.is_floating_point() or t.is_complex() else None,\n\u001b[1;32m    984\u001b[0m                             non_blocking, memory_format=convert_to_format)\n\u001b[0;32m--> 985\u001b[0;31m             \u001b[0;32mreturn\u001b[0m \u001b[0mt\u001b[0m\u001b[0;34m.\u001b[0m\u001b[0mto\u001b[0m\u001b[0;34m(\u001b[0m\u001b[0mdevice\u001b[0m\u001b[0;34m,\u001b[0m \u001b[0mdtype\u001b[0m \u001b[0;32mif\u001b[0m \u001b[0mt\u001b[0m\u001b[0;34m.\u001b[0m\u001b[0mis_floating_point\u001b[0m\u001b[0;34m(\u001b[0m\u001b[0;34m)\u001b[0m \u001b[0;32mor\u001b[0m \u001b[0mt\u001b[0m\u001b[0;34m.\u001b[0m\u001b[0mis_complex\u001b[0m\u001b[0;34m(\u001b[0m\u001b[0;34m)\u001b[0m \u001b[0;32melse\u001b[0m \u001b[0;32mNone\u001b[0m\u001b[0;34m,\u001b[0m \u001b[0mnon_blocking\u001b[0m\u001b[0;34m)\u001b[0m\u001b[0;34m\u001b[0m\u001b[0;34m\u001b[0m\u001b[0m\n\u001b[0m\u001b[1;32m    986\u001b[0m \u001b[0;34m\u001b[0m\u001b[0m\n\u001b[1;32m    987\u001b[0m         \u001b[0;32mreturn\u001b[0m \u001b[0mself\u001b[0m\u001b[0;34m.\u001b[0m\u001b[0m_apply\u001b[0m\u001b[0;34m(\u001b[0m\u001b[0mconvert\u001b[0m\u001b[0;34m)\u001b[0m\u001b[0;34m\u001b[0m\u001b[0;34m\u001b[0m\u001b[0m\n",
      "\u001b[0;32m/opt/anaconda3/lib/python3.9/site-packages/torch/cuda/__init__.py\u001b[0m in \u001b[0;36m_lazy_init\u001b[0;34m()\u001b[0m\n\u001b[1;32m    219\u001b[0m                 \"multiprocessing, you must use the 'spawn' start method\")\n\u001b[1;32m    220\u001b[0m         \u001b[0;32mif\u001b[0m \u001b[0;32mnot\u001b[0m \u001b[0mhasattr\u001b[0m\u001b[0;34m(\u001b[0m\u001b[0mtorch\u001b[0m\u001b[0;34m.\u001b[0m\u001b[0m_C\u001b[0m\u001b[0;34m,\u001b[0m \u001b[0;34m'_cuda_getDeviceCount'\u001b[0m\u001b[0;34m)\u001b[0m\u001b[0;34m:\u001b[0m\u001b[0;34m\u001b[0m\u001b[0;34m\u001b[0m\u001b[0m\n\u001b[0;32m--> 221\u001b[0;31m             \u001b[0;32mraise\u001b[0m \u001b[0mAssertionError\u001b[0m\u001b[0;34m(\u001b[0m\u001b[0;34m\"Torch not compiled with CUDA enabled\"\u001b[0m\u001b[0;34m)\u001b[0m\u001b[0;34m\u001b[0m\u001b[0;34m\u001b[0m\u001b[0m\n\u001b[0m\u001b[1;32m    222\u001b[0m         \u001b[0;32mif\u001b[0m \u001b[0m_cudart\u001b[0m \u001b[0;32mis\u001b[0m \u001b[0;32mNone\u001b[0m\u001b[0;34m:\u001b[0m\u001b[0;34m\u001b[0m\u001b[0;34m\u001b[0m\u001b[0m\n\u001b[1;32m    223\u001b[0m             raise AssertionError(\n",
      "\u001b[0;31mAssertionError\u001b[0m: Torch not compiled with CUDA enabled"
     ]
    }
   ],
   "source": [
    "from deepod.models import DeepSVDD\n",
    "\n",
    "# training an anomaly detection model\n",
    "model = DeepSVDD() # or any other models in DeepOD\n",
    "model.fit(gp2_carburant) # training\n",
    "\n",
    "#path = 'save_file.pkl'\n",
    "#model.save_model(path) # save trained model at the assigned path\n",
    "\n",
    "# directly load trained model from path\n",
    "#model = DeepSVDD.load_model(path)\n",
    "model.decision_function(gp2_carburant)\n",
    "# or\n",
    "model.predict(gp2_carburant)"
   ]
  },
  {
   "cell_type": "code",
   "execution_count": null,
   "id": "03a577ed",
   "metadata": {},
   "outputs": [],
   "source": [
    "#! pip install torch torchvision torchaudio --index-url https://download.pytorch.org/whl/cu117"
   ]
  },
  {
   "cell_type": "code",
   "execution_count": null,
   "id": "4e75eba3",
   "metadata": {},
   "outputs": [],
   "source": []
  }
 ],
 "metadata": {
  "kernelspec": {
   "display_name": "Python 3 (ipykernel)",
   "language": "python",
   "name": "python3"
  },
  "language_info": {
   "codemirror_mode": {
    "name": "ipython",
    "version": 3
   },
   "file_extension": ".py",
   "mimetype": "text/x-python",
   "name": "python",
   "nbconvert_exporter": "python",
   "pygments_lexer": "ipython3",
   "version": "3.9.13"
  }
 },
 "nbformat": 4,
 "nbformat_minor": 5
}
